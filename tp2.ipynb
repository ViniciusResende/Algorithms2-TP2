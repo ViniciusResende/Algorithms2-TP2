{
 "cells": [
  {
   "cell_type": "code",
   "execution_count": 7,
   "metadata": {},
   "outputs": [],
   "source": [
    "import heapq\n",
    "import numpy as np\n"
   ]
  },
  {
   "cell_type": "code",
   "execution_count": 8,
   "metadata": {},
   "outputs": [],
   "source": [
    "class MinimumHeap:\n",
    "  \"\"\"\n",
    "  A class representing a minimum heap.\n",
    "\n",
    "  Attributes:\n",
    "    heap (list): The list representing the minimum heap.\n",
    "\n",
    "  Methods:\n",
    "    push(value): Pushes a value into the minimum heap.\n",
    "    pop(): Removes and returns the minimum value from the heap.\n",
    "    peek(): Returns the minimum value from the heap without removing it.\n",
    "    size(): Returns the number of elements in the heap.\n",
    "  \"\"\"\n",
    "  def __init__(self):\n",
    "    self.heap = []\n",
    "\n",
    "  def push(self, value):\n",
    "    heapq.heappush(self.heap, value)\n",
    "\n",
    "  def pop(self):\n",
    "    return heapq.heappop(self.heap)\n",
    "\n",
    "  def peek(self):\n",
    "    return self.heap[0] if self.heap else None\n",
    "\n",
    "  def size(self):\n",
    "    return len(self.heap)"
   ]
  },
  {
   "cell_type": "code",
   "execution_count": 14,
   "metadata": {},
   "outputs": [],
   "source": [
    "class Graph:\n",
    "  def __init__(self, numVertices):\n",
    "    self.numVertices = numVertices\n",
    "    self.adjM = np.zeros((numVertices, numVertices), dtype=int)\n",
    "\n",
    "  def pushEdge(self, source, destination, weight=None):\n",
    "    self.adjM[source, destination] = weight\n",
    "    self.adjM[destination, source] = weight\n",
    "\n",
    "  def getNeighbors(self, vertex):\n",
    "    row = self.adjM[vertex]\n",
    "    indices = np.nonzero(row)\n",
    "    weights = row[indices]\n",
    "    return list(zip(indices[0], weights))\n",
    "\n",
    "  def __str__(self):\n",
    "    return str(self.adjM)"
   ]
  },
  {
   "cell_type": "code",
   "execution_count": 20,
   "metadata": {},
   "outputs": [],
   "source": [
    "def MST_Prim(graph):\n",
    "  \"\"\"\n",
    "  Finds the minimum spanning tree of a graph using Prim's algorithm.\n",
    "\n",
    "  Args:\n",
    "    graph: The graph to find the minimum spanning tree of.\n",
    "\n",
    "  Returns:\n",
    "    A new graph instance representing the minimum spanning tree of the input\n",
    "  \"\"\"\n",
    "  mst = Graph(graph.vertices)\n",
    "  visited = np.zeros(graph.vertices, dtype=bool)\n",
    "  heap = MinimumHeap()\n",
    "  heap.push((0, 0, None))\n",
    "\n",
    "  while heap.size() > 0:\n",
    "    weight, vertex, parent = heap.pop()\n",
    "    if visited[vertex]:\n",
    "      continue\n",
    "    visited[vertex] = True\n",
    "    if parent is not None:\n",
    "      mst.pushEdge(parent, vertex, weight)\n",
    "    for neighbor, weight in graph.getNeighbors(vertex):\n",
    "      if not visited[neighbor]:\n",
    "        heap.push((weight, neighbor, vertex))\n",
    "  return mst"
   ]
  },
  {
   "cell_type": "code",
   "execution_count": 23,
   "metadata": {},
   "outputs": [],
   "source": [
    "def TreePreorderWalk(graph):\n",
    "  \"\"\"\n",
    "  Performs a preorder walk of a tree.\n",
    "\n",
    "  Args:\n",
    "    graph: The graph to perform the preorder walk on.\n",
    "\n",
    "  Returns:\n",
    "    A list of vertices in the order they were visited.\n",
    "  \"\"\"\n",
    "  visited = np.zeros(graph.vertices, dtype=bool)\n",
    "  stack = [0]\n",
    "  walk = []\n",
    "\n",
    "  while len(stack) > 0:\n",
    "    vertex = stack.pop()\n",
    "    if visited[vertex]:\n",
    "      continue\n",
    "    visited[vertex] = True\n",
    "    walk.append(vertex)\n",
    "    for neighbor, _ in graph.getNeighbors(vertex):\n",
    "      if not visited[neighbor]:\n",
    "        stack.append(neighbor)\n",
    "  return walk"
   ]
  },
  {
   "cell_type": "code",
   "execution_count": 25,
   "metadata": {},
   "outputs": [],
   "source": [
    "def approxTSP(graph):\n",
    "  \"\"\"\n",
    "  Computes an approximate solution to the traveling salesman problem using\n",
    "  minimum spanning trees.\n",
    "\n",
    "  Args:\n",
    "    graph: The graph to compute the approximate solution for.\n",
    "\n",
    "  Returns:\n",
    "    A list of vertices in the order they are visited.\n",
    "  \"\"\"\n",
    "  mst = MST_Prim(graph)\n",
    "  walk = TreePreorderWalk(mst)\n",
    "  walk.append(0)\n",
    "  return walk"
   ]
  },
  {
   "cell_type": "code",
   "execution_count": 26,
   "metadata": {},
   "outputs": [
    {
     "name": "stdout",
     "output_type": "stream",
     "text": [
      "[0, 1, 3, 4, 2, 0]\n"
     ]
    }
   ],
   "source": [
    "# Class 13 slide problem\n",
    "graph = Graph(5)\n",
    "graph.pushEdge(0, 1, 4)\n",
    "graph.pushEdge(0, 2, 8)\n",
    "graph.pushEdge(0, 3, 9)\n",
    "graph.pushEdge(0, 4, 12)\n",
    "graph.pushEdge(1, 2, 6)\n",
    "graph.pushEdge(1, 3, 8)\n",
    "graph.pushEdge(1, 4, 9)\n",
    "graph.pushEdge(2, 3, 10)\n",
    "graph.pushEdge(2, 4, 11)\n",
    "graph.pushEdge(3, 4, 7)\n",
    "\n",
    "print(approxTSP(graph))"
   ]
  }
 ],
 "metadata": {
  "kernelspec": {
   "display_name": "Python 3",
   "language": "python",
   "name": "python3"
  },
  "language_info": {
   "codemirror_mode": {
    "name": "ipython",
    "version": 3
   },
   "file_extension": ".py",
   "mimetype": "text/x-python",
   "name": "python",
   "nbconvert_exporter": "python",
   "pygments_lexer": "ipython3",
   "version": "3.10.12"
  }
 },
 "nbformat": 4,
 "nbformat_minor": 2
}
